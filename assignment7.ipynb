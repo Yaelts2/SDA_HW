{
 "cells": [
  {
   "cell_type": "markdown",
   "id": "4bfac037",
   "metadata": {},
   "source": [
    "Question 4"
   ]
  },
  {
   "cell_type": "code",
   "execution_count": 2,
   "id": "4464e268",
   "metadata": {},
   "outputs": [
    {
     "name": "stdout",
     "output_type": "stream",
     "text": [
      "Neuron 1 entropy: 0.9921 bits\n",
      "Neuron 2 entropy: 0.9396 bits\n",
      "Neuron 3 entropy: 0.9128 bits\n",
      "Neuron 4 entropy: 0.8633 bits\n",
      "Neuron 5 entropy: 0.8521 bits\n",
      "Neuron 6 entropy: 0.8293 bits\n",
      "Neuron 7 entropy: 0.8700 bits\n",
      "Neuron 8 entropy: 0.8796 bits\n"
     ]
    }
   ],
   "source": [
    "import numpy as np\n",
    "import math\n",
    "\n",
    "spk_mat = np.load(\"spk_mat.npy\")  # shape is (8, time_points)\n",
    "entropies = []\n",
    "\n",
    "#each neuron(row)\n",
    "for i in range(8):\n",
    "    neuron_data = spk_mat[i]\n",
    "    p = np.mean(neuron_data)  # probability of spike (value 1)\n",
    "    if p == 0 or p == 1:\n",
    "        h = 0  # no uncertainty\n",
    "    else:\n",
    "        h = -p * math.log2(p) - (1 - p) * math.log2(1 - p)\n",
    "    entropies.append(h)\n",
    "    print(f\"Neuron {i+1} entropy: {h:.4f} bits\")\n"
   ]
  },
  {
   "cell_type": "code",
   "execution_count": null,
   "id": "9602d660",
   "metadata": {},
   "outputs": [
    {
     "name": "stdout",
     "output_type": "stream",
     "text": [
      "Network entropy: 2.8774 bits\n"
     ]
    }
   ],
   "source": [
    "#B\n",
    "#For each time point, we sum across the 8 neurons → values range from 0 to 8.\n",
    "\n",
    "# Sum activity across neurons at each time point\n",
    "network_activity = np.sum(spk_mat, axis=0)  # shape: (time_points,)\n",
    "\n",
    "# Count how often each sum value (0 to 8) appears\n",
    "activity_values, counts = np.unique(network_activity, return_counts=True)\n",
    "\n",
    "# Convert counts to probabilities\n",
    "probabilities = counts / np.sum(counts)\n",
    "\n",
    "# Calculate entropy\n",
    "network_entropy = 0\n",
    "for p in probabilities:\n",
    "    if p > 0:\n",
    "        network_entropy += -p * math.log2(p)\n",
    "\n",
    "print(f\"Network entropy: {network_entropy:.4f} bits\")\n"
   ]
  },
  {
   "cell_type": "code",
   "execution_count": 4,
   "id": "d2ea6adf",
   "metadata": {},
   "outputs": [
    {
     "name": "stdout",
     "output_type": "stream",
     "text": [
      "\n",
      "Neuron 3:\n",
      "  Mutual info with neuron 1: 0.4413 bits\n",
      "  Mutual info with neuron 2: 0.2643 bits\n",
      "  Mutual info with neuron 4: 0.0949 bits\n",
      "  Mutual info with neuron 5: 0.0553 bits\n",
      "  Mutual info with neuron 6: 0.0328 bits\n",
      "  Mutual info with neuron 7: 0.0193 bits\n",
      "  Mutual info with neuron 8: 0.0244 bits\n",
      "→ Best predictor for neuron 3 is neuron 1 with MI = 0.4413 bits\n",
      "\n",
      "Neuron 7:\n",
      "  Mutual info with neuron 1: 0.0392 bits\n",
      "  Mutual info with neuron 2: 0.0263 bits\n",
      "  Mutual info with neuron 3: 0.0193 bits\n",
      "  Mutual info with neuron 4: 0.0105 bits\n",
      "  Mutual info with neuron 5: 0.2576 bits\n",
      "  Mutual info with neuron 6: 0.1523 bits\n",
      "  Mutual info with neuron 8: 0.0032 bits\n",
      "→ Best predictor for neuron 7 is neuron 5 with MI = 0.2576 bits\n",
      "\n",
      "Neuron 8:\n",
      "  Mutual info with neuron 1: 0.0475 bits\n",
      "  Mutual info with neuron 2: 0.0317 bits\n",
      "  Mutual info with neuron 3: 0.0244 bits\n",
      "  Mutual info with neuron 4: 0.1787 bits\n",
      "  Mutual info with neuron 5: 0.0074 bits\n",
      "  Mutual info with neuron 6: 0.0045 bits\n",
      "  Mutual info with neuron 7: 0.0032 bits\n",
      "→ Best predictor for neuron 8 is neuron 4 with MI = 0.1787 bits\n"
     ]
    }
   ],
   "source": [
    "# C \n",
    "# Mutual information between two binary vectors\n",
    "def mutual_info(x, y):\n",
    "    mi = 0\n",
    "    for a in [0, 1]:\n",
    "        for b in [0, 1]:\n",
    "            # Joint probability\n",
    "            p_ab = np.mean((x == a) & (y == b))\n",
    "            # Marginals\n",
    "            p_a = np.mean(x == a)\n",
    "            p_b = np.mean(y == b)\n",
    "            if p_ab > 0:\n",
    "                mi += p_ab * math.log2(p_ab / (p_a * p_b))\n",
    "    return mi\n",
    "\n",
    "# Target neurons: 3, 7, 8 (index 2, 6, 7)\n",
    "targets = [2, 6, 7]\n",
    "\n",
    "for target in targets:\n",
    "    print(f\"\\nNeuron {target + 1}:\")\n",
    "    best_mi = 0\n",
    "    best_neuron = None\n",
    "    for other in range(8):\n",
    "        if other == target:\n",
    "            continue\n",
    "        mi = mutual_info(spk_mat[target], spk_mat[other])\n",
    "        print(f\"  Mutual info with neuron {other + 1}: {mi:.4f} bits\")\n",
    "        if mi > best_mi:\n",
    "            best_mi = mi\n",
    "            best_neuron = other + 1\n",
    "    print(f\"→ Best predictor for neuron {target + 1} is neuron {best_neuron} with MI = {best_mi:.4f} bits\")"
   ]
  }
 ],
 "metadata": {
  "kernelspec": {
   "display_name": "Python 3",
   "language": "python",
   "name": "python3"
  },
  "language_info": {
   "codemirror_mode": {
    "name": "ipython",
    "version": 3
   },
   "file_extension": ".py",
   "mimetype": "text/x-python",
   "name": "python",
   "nbconvert_exporter": "python",
   "pygments_lexer": "ipython3",
   "version": "3.12.10"
  }
 },
 "nbformat": 4,
 "nbformat_minor": 5
}
